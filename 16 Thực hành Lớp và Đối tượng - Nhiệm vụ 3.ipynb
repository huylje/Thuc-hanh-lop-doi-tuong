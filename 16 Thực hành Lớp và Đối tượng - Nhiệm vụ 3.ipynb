{
 "cells": [
  {
   "cell_type": "code",
   "execution_count": null,
   "id": "a42fa0c7",
   "metadata": {},
   "outputs": [],
   "source": [
    "\"\"\"\n",
    "Tạo class có tên Equation gồm có các thuộc tính và phương thức sau:\n",
    "+ Thuộc tính: number1, number2\n",
    "+ Phương thức:\n",
    "- Phương thức tạo __init()__\n",
    "- print_info(): dùng để hiển thị number1, number2\n",
    "- add(): dùng để cộng number1, number2\n",
    "- subtract(): trừ number1, number2\n",
    "- multiply(): dùng để nhân number1, number2\n",
    "- divide(): dùng để chia number1, number2.\n",
    "\n",
    "Sau khi tạo class, khởi tạo một object Equation và in ra kết quả tính toán từ các hàm thực hiện phép tính\n",
    "\"\"\""
   ]
  },
  {
   "cell_type": "code",
   "execution_count": 1,
   "id": "ad874bd0-7de2-4a69-a316-4b09e4c49364",
   "metadata": {},
   "outputs": [
    {
     "name": "stdout",
     "output_type": "stream",
     "text": [
      "Number 1: 5\n",
      "Number 2: 3\n",
      "Tổng: 8\n",
      "Hiệu: 2\n",
      "Tích: 15\n",
      "Thương: 1.6666666666666667\n"
     ]
    }
   ],
   "source": [
    "class Equation:\n",
    "    def __init__(self, number1, number2):\n",
    "        self.number1 = number1\n",
    "        self.number2 = number2\n",
    "\n",
    "    def print_info(self):\n",
    "        print(\"Number 1:\", self.number1)\n",
    "        print(\"Number 2:\", self.number2)\n",
    "\n",
    "    def add(self):\n",
    "        return self.number1 + self.number2\n",
    "\n",
    "    def subtract(self):\n",
    "        return self.number1 - self.number2\n",
    "\n",
    "    def multiply(self):\n",
    "        return self.number1 * self.number2\n",
    "\n",
    "    def divide(self):\n",
    "        if self.number2 != 0:\n",
    "            return self.number1 / self.number2\n",
    "        else:\n",
    "            return \"Không thể chia cho 0\"\n",
    "\n",
    "# Khởi tạo một đối tượng Equation\n",
    "equation = Equation(5, 3)\n",
    "\n",
    "# In ra thông tin của các số\n",
    "equation.print_info()\n",
    "\n",
    "# Thực hiện các phép tính và in ra kết quả\n",
    "print(\"Tổng:\", equation.add())\n",
    "print(\"Hiệu:\", equation.subtract())\n",
    "print(\"Tích:\", equation.multiply())\n",
    "print(\"Thương:\", equation.divide())"
   ]
  }
 ],
 "metadata": {
  "kernelspec": {
   "display_name": "Python 3 (ipykernel)",
   "language": "python",
   "name": "python3"
  },
  "language_info": {
   "codemirror_mode": {
    "name": "ipython",
    "version": 3
   },
   "file_extension": ".py",
   "mimetype": "text/x-python",
   "name": "python",
   "nbconvert_exporter": "python",
   "pygments_lexer": "ipython3",
   "version": "3.12.3"
  }
 },
 "nbformat": 4,
 "nbformat_minor": 5
}
