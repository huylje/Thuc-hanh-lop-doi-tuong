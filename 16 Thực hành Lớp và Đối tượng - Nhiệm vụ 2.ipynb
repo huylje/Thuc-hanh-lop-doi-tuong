{
 "cells": [
  {
   "cell_type": "code",
   "execution_count": null,
   "id": "1b7705b3",
   "metadata": {},
   "outputs": [],
   "source": [
    "\"\"\"\n",
    "Viết class NhanVien gồm các thuộc tính:\n",
    "+ Tên\n",
    "+ Tuổi\n",
    "+ Địa chỉ\n",
    "+ Tiền lương\n",
    "+ Tổng số giờ làm\n",
    "\n",
    "Và các phương thức:\n",
    "- Phương thức __init__()\n",
    "- print_info() : In ra tất cả các thông tin của nhân viên\n",
    "- tinh_thuong(): Tính toán và trả về số tiền thưởng của nhân viên theo công thức sau:\n",
    "Nếu tổng số giờ làm của nhân viên >=200 thì thưởng = lương * 20%\n",
    "Nếu tổng số giờ làm của nhân viên <200 và >=100 thì thưởng = lương * 10%\n",
    "Nếu tổng số giờ làm của nhân viên <100 thì thưởng = 0\n",
    "\"\"\""
   ]
  },
  {
   "cell_type": "code",
   "execution_count": 2,
   "id": "3cf0f41d",
   "metadata": {},
   "outputs": [
    {
     "name": "stdout",
     "output_type": "stream",
     "text": [
      "Thông tin nhân viên:\n",
      "Tên: Nguyen Van An\n",
      "Tuổi: 27\n",
      "Địa chỉ: Ha Noi\n",
      "Tiền lương: 5000000\n",
      "Tổng số giờ làm: 160\n",
      "Số tiền thưởng: 500000.0\n"
     ]
    }
   ],
   "source": [
    "class NhanVien:\n",
    "    def __init__(self, ten, tuoi, dia_chi, luong, tong_gio_lam):\n",
    "        self.ten = ten\n",
    "        self.tuoi = tuoi\n",
    "        self.dia_chi = dia_chi\n",
    "        self.luong = luong\n",
    "        self.tong_gio_lam = tong_gio_lam\n",
    "\n",
    "    def print_info(self):\n",
    "        print(\"Thông tin nhân viên:\")\n",
    "        print(\"Tên:\", self.ten)\n",
    "        print(\"Tuổi:\", self.tuoi)\n",
    "        print(\"Địa chỉ:\", self.dia_chi)\n",
    "        print(\"Tiền lương:\", self.luong)\n",
    "        print(\"Tổng số giờ làm:\", self.tong_gio_lam)\n",
    "\n",
    "    def tinh_thuong(self):\n",
    "        if self.tong_gio_lam >= 200:\n",
    "            return self.luong * 0.2\n",
    "        elif 100 <= self.tong_gio_lam < 200:\n",
    "            return self.luong * 0.1\n",
    "        else:\n",
    "            return 0\n",
    "\n",
    "# Tạo một đối tượng nhân viên\n",
    "nhan_vien = NhanVien(\"Nguyen Van An\", 27, \"Ha Noi\", 5000000, 160)\n",
    "\n",
    "# In thông tin của nhân viên\n",
    "nhan_vien.print_info()\n",
    "\n",
    "# Tính và in số tiền thưởng\n",
    "print(\"Số tiền thưởng:\", nhan_vien.tinh_thuong())"
   ]
  }
 ],
 "metadata": {
  "kernelspec": {
   "display_name": "Python 3 (ipykernel)",
   "language": "python",
   "name": "python3"
  },
  "language_info": {
   "codemirror_mode": {
    "name": "ipython",
    "version": 3
   },
   "file_extension": ".py",
   "mimetype": "text/x-python",
   "name": "python",
   "nbconvert_exporter": "python",
   "pygments_lexer": "ipython3",
   "version": "3.12.3"
  }
 },
 "nbformat": 4,
 "nbformat_minor": 5
}
